{
 "cells": [
  {
   "cell_type": "code",
   "execution_count": 3,
   "metadata": {},
   "outputs": [
    {
     "name": "stdout",
     "output_type": "stream",
     "text": [
      "Requirement already satisfied: mysql-connector-python in c:\\users\\hamza\\appdata\\local\\packages\\pythonsoftwarefoundation.python.3.10_qbz5n2kfra8p0\\localcache\\local-packages\\python310\\site-packages (8.3.0)\n"
     ]
    }
   ],
   "source": [
    "!pip install mysql-connector-python"
   ]
  },
  {
   "cell_type": "code",
   "execution_count": 29,
   "metadata": {},
   "outputs": [],
   "source": [
    "import mysql.connector as connector"
   ]
  },
  {
   "cell_type": "code",
   "execution_count": 36,
   "metadata": {},
   "outputs": [
    {
     "name": "stdout",
     "output_type": "stream",
     "text": [
      "Connected to the database successfully!\n"
     ]
    }
   ],
   "source": [
    "try:\n",
    "    connection = connector.connect(\n",
    "        user='root', password='kmr1010', db='littlelemondb')\n",
    "    print(\"Connected to the database successfully!\")\n",
    "except connector.Error as error:\n",
    "    print(\"Connection to the database failed: {}\".format(error))"
   ]
  },
  {
   "cell_type": "code",
   "execution_count": 24,
   "metadata": {},
   "outputs": [
    {
     "name": "stdout",
     "output_type": "stream",
     "text": [
      "Tables in the database:\n",
      "bookings\n",
      "customerdetails\n",
      "menuitems\n",
      "menus\n",
      "orderdeliverytsatus\n",
      "orders\n",
      "ordersview\n",
      "staffinformation\n"
     ]
    }
   ],
   "source": [
    "try:\n",
    "    cursor = connection.cursor()\n",
    "    query = \"SHOW TABLES;\"\n",
    "    cursor.execute(query)\n",
    "    tables = cursor.fetchall()\n",
    "\n",
    "    print(\"Tables in the database:\")\n",
    "    for table in tables:\n",
    "        print(table[0])\n",
    "\n",
    "except connector.Error as e:\n",
    "    print(f\"Error executing query: {e}\")\n",
    "\n",
    "finally:\n",
    "    cursor.close()\n",
    "    connection.close()"
   ]
  },
  {
   "cell_type": "code",
   "execution_count": 37,
   "metadata": {},
   "outputs": [
    {
     "name": "stdout",
     "output_type": "stream",
     "text": [
      "Orders with total cost greater than 60:\n"
     ]
    }
   ],
   "source": [
    "try:\n",
    "    cursor = connection.cursor()\n",
    "    query = \"\"\"\n",
    "        SELECT c.FullName, c.Email, c.PhoneNumber\n",
    "        FROM Orders o\n",
    "        JOIN Bookings b ON o.BookingID = b.BookingID\n",
    "        JOIN CustomerDetails c ON b.CustomerID = c.CustomerID\n",
    "        WHERE o.TotalCost > 60\n",
    "    \"\"\"\n",
    "\n",
    "    cursor.execute(query)\n",
    "\n",
    "    results = cursor.fetchall()\n",
    "    print(\"Orders with total cost greater than 60:\")\n",
    "    for row in results:\n",
    "        print(row)\n",
    "except connector.Error as e:\n",
    "    print(f\"Error executing query: {e}\")\n",
    "\n",
    "finally:\n",
    "    cursor.close()\n",
    "    connection.close()"
   ]
  },
  {
   "cell_type": "code",
   "execution_count": null,
   "metadata": {},
   "outputs": [],
   "source": []
  }
 ],
 "metadata": {
  "kernelspec": {
   "display_name": "Python 3",
   "language": "python",
   "name": "python3"
  },
  "language_info": {
   "codemirror_mode": {
    "name": "ipython",
    "version": 3
   },
   "file_extension": ".py",
   "mimetype": "text/x-python",
   "name": "python",
   "nbconvert_exporter": "python",
   "pygments_lexer": "ipython3",
   "version": "3.10.11"
  }
 },
 "nbformat": 4,
 "nbformat_minor": 2
}
